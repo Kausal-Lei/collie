{
 "cells": [
  {
   "cell_type": "markdown",
   "metadata": {
    "pycharm": {
     "name": "#%%\n"
    }
   },
   "source": [
    "# 1. CoLLiE 是什么\n",
    "\n",
    "> 1.1 &ensp; CoLLiE 的功能\n",
    ">\n",
    "> 1.2 &ensp; CoLLiE 的安装\n",
    ">\n",
    "> **1.3** &ensp; **CoLLiE 的结构**（重点必看）"
   ]
  },
  {
   "cell_type": "markdown",
   "metadata": {
    "pycharm": {
     "name": "#%% md\n"
    }
   },
   "source": [
    "<!-- &emsp;; 多年以后，面对行刑队，奥雷里亚诺·布恩迪亚上校将会回想起父亲带他去见识冰块的那个遥远的下午。当时，马孔多是个二十户人家的村庄，一座座土房都盖在河岸上，河水清澈，沿着遍布石头的河床流去，河里的石头光滑、洁白，活象史前的巨蛋。 -->\n",
    "\n",
    "&ensp; &ensp; 多年以后，面对AIGC，NLPer将会回想起OpenAI推出ChatGPT前的那个遥远的下午。当时，对于LLM的研究，只是OpenAI、Google、Meta几家科技寡头间的军备竞赛。然而，一切都随着那个时刻的降临而改变；随之而来的，是普罗大众对于LLM模型开源的呼声，以及对LLM高效微调的需求。\n",
    "\n",
    "&ensp; &ensp; 模型的开源是学术研究的前提。在应用层面，OpenLMLab研发的[**MOSS**](https://github.com/OpenLMLab/MOSS)，作为国内首个类ChatGPT模型，为LLM的开源树立了良好的榜样。在模型层面，Meta的[**LLaMA**](https://arxiv.org/pdf/2302.13971.pdf)，作为一个参数量含盖 7B、13B、30B、65B 的 LLM开源集合，为LLM的深入研究和应用提供了基座。\n",
    "\n",
    "&ensp; &ensp; 然而，开源并不意味着故事的结束；相反地，真正的问题才刚刚开始。如何仅以用户级的硬件配置（Consumer Hardware），即在有限的计算和存储资源，例如 **1张** 或 **8张 3090显卡** 上，实现对LLM，例如 **7B** 乃至 **65B LLaMA的全参数微调**，成为了接踵而至的问题。而这就是CoLLiE所解决的问题。\n",
    "\n",
    "<!-- 虽然LLaMA是大羊驼，CoLLiE是牧羊犬，这个寓意是挺好的，但是如何表达就是一个比较头疼的问题 -->"
   ]
  },
  {
   "cell_type": "markdown",
   "metadata": {
    "pycharm": {
     "name": "#%% md\n"
    }
   },
   "source": [
    "## 1.1 &ensp; CoLLiE 的功能\n",
    "\n",
    "&ensp; &ensp; CoLLie作为一款端到端的大语言模型高度集成化训练框架，其功能主要体现在以下的四个角度，相关内容在后续的Tutorial中会有详细的介绍：\n",
    "\n",
    "&emsp; &emsp; 训练角度：致力于涵盖包含适用于各种特异场景的并行方式，整合四种并行策略：**数据并行 DP**、**流水线并行 PP**、**张量并行 TP**（ 以及 **3D并行**）、**零冗余优化器 ZeRO**（[tutorial-3](https://openlmlab-collie.readthedocs.io/zh_CN/latest/tutorials/collie-tutorial-3-parallel.html)）\n",
    "\n",
    "&emsp; &emsp; 应用角度：致力于涵盖大语言模型从预训练、全量微调、参数高效微调的全流程，提出面向全参数高效微调的**LOMO算法**，支持**LoRA**、**PrefixTuning**、**PromptTuning**等参数高效微调方案（[tutorial-4](https://openlmlab-collie.readthedocs.io/zh_CN/latest/tutorials/collie-tutorial-4-lomo-peft.html)）\n",
    "\n",
    "&emsp; &emsp; 模型角度：致力于与时俱进，不断集成最新的模型架构、优化框架，兼容**FlashAttention**框架，极大提升Transformer运算效率，在有限的资源上让大模型轻松驾驭长序列（[tutorial-2](https://openlmlab-collie.readthedocs.io/zh_CN/latest/tutorials/collie-tutorial-2-trainer.html)）\n",
    "\n",
    "&emsp; &emsp; 使用角度：致力于涵盖从数据准备、数据处理、模型训练、模型评测、模型部署的训练整体环节：通过**Trainer**、**Config**模块，轻松上手LLM微调实战（[tutorial-2](https://openlmlab-collie.readthedocs.io/zh_CN/latest/tutorials/collie-tutorial-2-trainer.html)），通过**Callback**、**Monitor**模块，全方位掌控LLM微调过程（[tutorial-4](https://openlmlab-collie.readthedocs.io/zh_CN/latest/tutorials/collie-tutorial-4-lomo-peft.html)）"
   ]
  },
  {
   "cell_type": "markdown",
   "metadata": {
    "pycharm": {
     "name": "#%% md\n"
    }
   },
   "source": [
    "## 1.2 &ensp; CoLLiE 的安装\n",
    "\n",
    "&ensp; &ensp; CoLLiE通过git结合pip install安装，只需要一行指令如下。\n",
    "\n",
    "```sh\n",
    "pip install git+https://github.com/OpenLMLab/collie.git\n",
    "```\n",
    "\n",
    "&ensp; &ensp; CoLLiE在安装时需要保证保证环境已有的torch对应cuda版本和nvcc -V结果一致，例如笔者的nvcc是11.7版本，对应torch使用1.13.1+cu117\n",
    "\n",
    "``` bash\n",
    "nvcc: NVIDIA (R) Cuda compiler driver\n",
    "Copyright (c) 2005-2022 NVIDIA Corporation\n",
    "Built on Tue_May__3_18:49:52_PDT_2022\n",
    "Cuda compilation tools, release 11.7, V11.7.64\n",
    "Build cuda_11.7.r11.7/compiler.31294372_0\n",
    "```\n",
    "\n",
    "&ensp; &ensp; 关于CoLLiE的依赖库，笔者简要列举了自己安装CoLLiE的环境中主要的包；其中较为重要的、在requirements.txt中出现的，使用粗体强调。其中，有三个库需要额外强调一下：apex，负责实现混合精度训练；megatron，负责实现流水线并行；deepspeed，负责实现零冗余优化器ZeRO等其他并行方案。\n",
    "\n",
    "| 名称 | 版本 | 名称 | 版本 |\n",
    "|:----|:----|:----|:----|\n",
    "| **accelerate** | 0.20.3 | pip | 23.0.1 |\n",
    "| **apex** | 0.1 | **protobuf** | 3.20.1 |\n",
    "| **bitsandbytes** | 0.39.1 | **psutil** | 5.9.9 |\n",
    "| **bullet** | 2.2.0 | requests | 2.28.2 |\n",
    "| collie | 1.0.1 | **rich** | 13.3.5 |\n",
    "| colossalai | 0.2.8 | **scipy** | 1.11.1 |\n",
    "| datasets | 2.4.0 | **sentencepiece** | 0.1.98 |\n",
    "| **deepspeed** | 0.9.5 | setuptools | 66.0.0 |\n",
    "| **einops** | 0.6.1 | **tensorboard** | 2.13.0 |\n",
    "| **fastapi** | 0.96.0 | tokenizers | 0.13.3 |\n",
    "| **flash-attn** | 1.0.4 | **torch** | 1.13.1+cu117 |\n",
    "| **google** | 3.0.0 | **tqdm** | 4.65.0 |\n",
    "| **megatron-core** | 0.1.0 | **transformers** | 4.30.2 |\n",
    "| numpy | 1.24.2 | typing_extensions | 4.5.0 |\n",
    "| **pandas** | 2.0.0 | **wandb** | 0.14.2 |\n",
    "| **peft** | 0.3.0 | **websockets** | 11.0.3 |\n",
    "<!-- | **accelerate** | 0.20.3 | -->\n",
    "\n",
    "&ensp; &ensp; 除此之外，CoLLiE提供了与torchrun和slurm的集成，以便用户在使用时可以轻松地在单个或多个节点上启动任务；详细内容会在后续tutorial中介绍。"
   ]
  },
  {
   "cell_type": "markdown",
   "metadata": {
    "pycharm": {
     "name": "#%% md\n"
    }
   },
   "source": [
    "## 1.3 &ensp; CoLLiE 的结构\n",
    "\n",
    "&ensp; &ensp; 笔者通过以下的表格简要描述了CoLLiE的文件结构，以及代码文件对应的功能，包括CoLLiE的实现代码，见collie/，以及辅助的演示代码，见examples/\n",
    "\n",
    "| 路径 | 功能 |\n",
    "|:----|:----|\n",
    "|├─ **collie** |  |\n",
    "|│&ensp;&ensp;&ensp;├─ **[callbacks](https://openlmlab-collie.readthedocs.io/zh_CN/latest/api/callbacks.html)** | **实现CoLLiE的各种回调模块**，详见 [tutorial-4](https://openlmlab-collie.readthedocs.io/zh_CN/latest/tutorials/collie-tutorial-4-lomo-peft.html#4.3-%E2%80%82-CoLLiE-的-Callback-模块) |\n",
    "|│&ensp;&ensp;&ensp;│&ensp;&ensp;&ensp;├─ callback.py | 定义CoLLiE的回调机制基类，明确了CoLLiE的回调时机 |\n",
    "|│&ensp;&ensp;&ensp;│&ensp;&ensp;&ensp;├─ callback_manager.py | 定义CoLLiE回调类的管理模块，对应时机执行对应回调函数 |\n",
    "|│&ensp;&ensp;&ensp;│&ensp;&ensp;&ensp;├─ checkpoint_callback.py | 定义CoLLiE用于保存检查点的回调模块CheckpointCallback |\n",
    "|│&ensp;&ensp;&ensp;│&ensp;&ensp;&ensp;├─ has_monitor_callback.py | 定义CoLLiE用于监控某个数值的回调模块ResultsMonitor |\n",
    "|│&ensp;&ensp;&ensp;│&ensp;&ensp;&ensp;├─ load_best_model_callback.py | 定义CoLLiE用于保存最佳monitor模型的回调模块LoadBestModelCallback |\n",
    "|│&ensp;&ensp;&ensp;│&ensp;&ensp;&ensp;├─ topk_saver.py | 定义CoLLiE用于识别topk模型并保存的回调模块TopkSaver |\n",
    "|│&ensp;&ensp;&ensp;│&ensp;&ensp;&ensp;└─ utils.py | 定义CoLLiE.callback相关的一些工具函数 |\n",
    "|│&ensp;&ensp;&ensp;├─ **[config.py](https://openlmlab-collie.readthedocs.io/zh_CN/latest/api/config.html)** | **实现CoLLiE的配置类CollieConfig**，涉及各种配置参数，详见 [tutorial-2](https://openlmlab-collie.readthedocs.io/zh_CN/latest/tutorials/collie-tutorial-2-trainer.html#2.2-%E2%80%82-CoLLiE-的-Config-模块) |\n",
    "|│&ensp;&ensp;&ensp;├─ **[controller](https://openlmlab-collie.readthedocs.io/zh_CN/latest/api/controller.html)** | **实现CoLLiE的Evaluator、Trainer、Server** |\n",
    "|│&ensp;&ensp;&ensp;│&ensp;&ensp;&ensp;├─ evaluator.py | 定义CoLLiE的测试模块Evaluator，快速评测模型性能，详见 [tutorial-2](https://openlmlab-collie.readthedocs.io/zh_CN/latest/tutorials/collie-tutorial-2-trainer.html#2.4-%E2%80%82-CoLLiE-的-Evaluator-和-Metric) |\n",
    "|│&ensp;&ensp;&ensp;│&ensp;&ensp;&ensp;├─ server.py | 定义CoLLiE的服务模块Server，多卡分布式大模型部署，详见 [tutorial-4](https://openlmlab-collie.readthedocs.io/zh_CN/latest/tutorials/collie-tutorial-4-lomo-peft.html#4.5-%E2%80%82-CoLLiE-的-Server-模块) |\n",
    "|│&ensp;&ensp;&ensp;│&ensp;&ensp;&ensp;├─ trainer.py | 定义CoLLiE的训练模块Trainer，快速实现分布式训练，详见 [tutorial-2](https://openlmlab-collie.readthedocs.io/zh_CN/latest/tutorials/collie-tutorial-2-trainer.html#2.5-%E2%80%82-CoLLiE-的-Trainer-模块) |\n",
    "|│&ensp;&ensp;&ensp;│&ensp;&ensp;&ensp;└─ utils.py | 定义CoLLiE训练过程中回调函数的触发器TrainerEventTrigger |\n",
    "|│&ensp;&ensp;&ensp;├─ **[data](https://openlmlab-collie.readthedocs.io/zh_CN/latest/api/data.html)** | **实现CoLLiE预制的数据处理模块**，详见 [tutorial-2](https://openlmlab-collie.readthedocs.io/zh_CN/latest/tutorials/collie-tutorial-2-trainer.html#2.3-%E2%80%82-CoLLiE-的-Dataset-和-Model) |\n",
    "|│&ensp;&ensp;&ensp;│&ensp;&ensp;&ensp;├─ batch_sampler.py | 定义CoLLiE在最后个batch不满时的处理方式 |\n",
    "|│&ensp;&ensp;&ensp;│&ensp;&ensp;&ensp;├─ dataloader.py | 定义CoLLiE的DataLoader，训练过程中每次迭代出若干条数据 |\n",
    "|│&ensp;&ensp;&ensp;│&ensp;&ensp;&ensp;└─ dataset.py | 定义CollieDatasetForTraining/Generation/Classification |\n",
    "|│&ensp;&ensp;&ensp;├─ **[driver/io](https://openlmlab-collie.readthedocs.io/zh_CN/latest/api/driver.html)** | **实现CoLLiE的文件读写模块** |\n",
    "|│&ensp;&ensp;&ensp;│&ensp;&ensp;&ensp;├─ base.py | 定义CoLLiE的读写类IODriver |\n",
    "|│&ensp;&ensp;&ensp;│&ensp;&ensp;&ensp;└─ file.py | 定义CoLLiE的文件读写类，继承自IODriver |\n",
    "|│&ensp;&ensp;&ensp;├─ **[log](https://github.com/OpenLMLab/collie/tree/dev/collie/log)** | **实现CoLLiE的日志输出模块** |\n",
    "|│&ensp;&ensp;&ensp;│&ensp;&ensp;&ensp;├─ handler.py | 定义CoLLiE的输出行为TqdmLoggingHandler、StdoutStreamHandler |\n",
    "|│&ensp;&ensp;&ensp;│&ensp;&ensp;&ensp;├─ highlighter.py | 定义CoLLiE的输出高亮行为ColorHighlighter |\n",
    "|│&ensp;&ensp;&ensp;│&ensp;&ensp;&ensp;├─ logger.py | 定义CoLLiE的日志记录模块Logger，封装logging.Logger以及上述的模块 |\n",
    "|│&ensp;&ensp;&ensp;│&ensp;&ensp;&ensp;└─ print.py | 定义CoLLiE的print函数，调用Logger模块，自定义CoLLiE的print方式 |\n",
    "|│&ensp;&ensp;&ensp;├─ **[metrics](https://openlmlab-collie.readthedocs.io/zh_CN/latest/api/metrics.html)** | **实现CoLLiE预制的评测模块**，详见 [tutorial-2](https://openlmlab-collie.readthedocs.io/zh_CN/latest/tutorials/collie-tutorial-2-trainer.html#2.4-%E2%80%82-CoLLiE-的-Evaluator-和-Metric) |\n",
    "|│&ensp;&ensp;&ensp;│&ensp;&ensp;&ensp;├─ accuracy.py | 定义CoLLiE的准确率，update需传入 {\"pred\": xxx, \"target\": xxx} |\n",
    "|│&ensp;&ensp;&ensp;│&ensp;&ensp;&ensp;├─ base.py | 定义CoLLiE的评测基类，update计算指标，get_metric统计输出 |\n",
    "|│&ensp;&ensp;&ensp;│&ensp;&ensp;&ensp;├─ bleu.py | 定义CoLLiE的BLEU得分，update需传入 {\"pred\": xxx, \"target\": xxx} |\n",
    "|│&ensp;&ensp;&ensp;│&ensp;&ensp;&ensp;├─ classify_f1_pre_rec_metric.py | 定义CoLLiE的F1值，update需传入 {\"pred\": xxx, \"target\": xxx} |\n",
    "|│&ensp;&ensp;&ensp;│&ensp;&ensp;&ensp;├─ decode.py | 定义CoLLiE的解码行为，update需传入 {\"pred\": xxx} |\n",
    "|│&ensp;&ensp;&ensp;│&ensp;&ensp;&ensp;├─ ppl.py | 定义CoLLiE的困惑度，update需传入 {\"ppl\": xxx} |\n",
    "|│&ensp;&ensp;&ensp;│&ensp;&ensp;&ensp;└─ rouge.py | 定义CoLLiE的Rouge得分，update需传入 {\"pred\": xxx, \"target\": xxx} |\n",
    "|│&ensp;&ensp;&ensp;├─ **[models](https://openlmlab-collie.readthedocs.io/zh_CN/latest/api/models.html)** | **实现CoLLiE预定义的大模型**，详见 [tutorial-2](https://openlmlab-collie.readthedocs.io/zh_CN/latest/tutorials/collie-tutorial-2-trainer.html#2.3-%E2%80%82-CoLLiE-的-Dataset-和-Model) |\n",
    "|│&ensp;&ensp;&ensp;│&ensp;&ensp;&ensp;├─ base.py | 定义CoLLiE的LLM基类ColliePretrainedModel，支持from_pretrained |\n",
    "|│&ensp;&ensp;&ensp;│&ensp;&ensp;&ensp;├─ chatglm | 定义CoLLiE的ChatGLMForCausalLM，以及其内部模块 |\n",
    "|│&ensp;&ensp;&ensp;│&ensp;&ensp;&ensp;├─ chatglm2 | 定义CoLLiE的ChatGLM2ForCausalLM，以及其内部模块 |\n",
    "|│&ensp;&ensp;&ensp;│&ensp;&ensp;&ensp;├─ internlm | 定义CoLLiE的InternLMForCausalLM，以及其内部模块 |\n",
    "|│&ensp;&ensp;&ensp;│&ensp;&ensp;&ensp;├─ llama | 定义CoLLiE的LlamaForCausalLM，以及其内部模块 |\n",
    "|│&ensp;&ensp;&ensp;│&ensp;&ensp;&ensp;├─ moss | 定义CoLLiE的MossForCausalLM，以及其内部模块 |\n",
    "|│&ensp;&ensp;&ensp;│&ensp;&ensp;&ensp;└─ moss_moon | 定义CoLLiE的Moss003MoonForCausalLM，以及其内部模块 |\n",
    "|│&ensp;&ensp;&ensp;├─ **[module.py](https://openlmlab-collie.readthedocs.io/zh_CN/latest/api/module.html)** | **实现CoLLiE涉及的参数并行模块**，详见 [tutorial-3](https://openlmlab-collie.readthedocs.io/zh_CN/latest/tutorials/collie-tutorial-3-parallel.html) |\n",
    "|│&ensp;&ensp;&ensp;├─ **[optim](https://openlmlab-collie.readthedocs.io/zh_CN/latest/api/optim.html)** | **实现CoLLiE预定义的优化器**，详见 [tutorial-2](https://openlmlab-collie.readthedocs.io/zh_CN/latest/tutorials/collie-tutorial-2-trainer.html#2.5-%E2%80%82-CoLLiE-的-Trainer-模块) |\n",
    "|│&ensp;&ensp;&ensp;│&ensp;&ensp;&ensp;├─ adan.py | 定义CoLLiE版本的Adan优化器，参考 [Adan论文](https://arxiv.org/abs/2208.06677) |\n",
    "|│&ensp;&ensp;&ensp;│&ensp;&ensp;&ensp;├─ lomo.py | 定义CoLLiE提出的LOMO优化器，参考 [LOMO论文](https://arxiv.org/pdf/2306.09782.pdf)，详见 [tutorial-4](https://openlmlab-collie.readthedocs.io/zh_CN/latest/tutorials/collie-tutorial-4-lomo-peft.html#4.1-%E2%80%82-CoLLiE-实现-LOMO-算法) |\n",
    "|│&ensp;&ensp;&ensp;│&ensp;&ensp;&ensp;├─ lion.py | 定义CoLLiE版本的Lion优化器 |\n",
    "|│&ensp;&ensp;&ensp;│&ensp;&ensp;&ensp;└─ sophiag.py | 定义CoLLiE版本的SophiaG优化器 |\n",
    "|│&ensp;&ensp;&ensp;└─ **[utils](https://openlmlab-collie.readthedocs.io/zh_CN/latest/api/utils.html)** | **实现CoLLiE需要的工具类** |\n",
    "|│&ensp;&ensp;&ensp;&ensp;&ensp;&ensp;&ensp;├─ data_provider.py | 定义CoLLiE的异步数据提供器GradioProvider等 |\n",
    "|│&ensp;&ensp;&ensp;&ensp;&ensp;&ensp;&ensp;├─ dist_utils.py | 定义CoLLiE用于分布式以及环境初始化相关的辅助函数 |\n",
    "|│&ensp;&ensp;&ensp;&ensp;&ensp;&ensp;&ensp;├─ metric_wrapper.py | 定义CoLLiE封装metrics的模块MetricsWrapper |\n",
    "|│&ensp;&ensp;&ensp;&ensp;&ensp;&ensp;&ensp;├─ monitor.py | 定义CoLLiE的各种监控器，记录训练过程的统计信息，详见 [tutorial-4](https://openlmlab-collie.readthedocs.io/zh_CN/latest/tutorials/collie-tutorial-4-lomo-peft.html#4.4-%E2%80%82-CoLLiE-的-Monitor-模块) |\n",
    "|│&ensp;&ensp;&ensp;&ensp;&ensp;&ensp;&ensp;├─ padder.py | 定义CoLLie的通用collate_fn构造器，默认左填充padding_left=True |\n",
    "|│&ensp;&ensp;&ensp;&ensp;&ensp;&ensp;&ensp;├─ peft_utils.py | 定义从peft到CoLLiE的适配函数patch_peft_model和patch_prompt_tuning |\n",
    "|│&ensp;&ensp;&ensp;&ensp;&ensp;&ensp;&ensp;├─ pipeline_engine.py | 定义从CoLLiE的流水线并行引擎ColliePipelineEngine |\n",
    "|│&ensp;&ensp;&ensp;&ensp;&ensp;&ensp;&ensp;├─ rich_progress.py | 定义CoLLiE中进度条打印的格式 |\n",
    "|│&ensp;&ensp;&ensp;&ensp;&ensp;&ensp;&ensp;├─ seq_len_to_mask.py | 定义seq_len_to_mask函数，将seq_len数组转换为mask矩阵，pad为0 |\n",
    "|│&ensp;&ensp;&ensp;&ensp;&ensp;&ensp;&ensp;└─ utils.py | 定义CoLLiE中的其他辅助类或函数 |\n",
    "|├─ **examples** |  |\n",
    "|│&ensp;&ensp;&ensp;├─ **alpaca** |  |\n",
    "|│&ensp;&ensp;&ensp;│&ensp;&ensp;&ensp;├─ alpaca.json | 保存Alpaca的训练测试数据 |\n",
    "|│&ensp;&ensp;&ensp;│&ensp;&ensp;&ensp;└─ train.py | 使用CoLLiE微调LLaMA，3D并行，得到Alpaca实例 |\n",
    "|│&ensp;&ensp;&ensp;├─ finetune_chatglm_for_translation.py | 使用CoLLiE微调ChatGLM，流水线并行，训练IWSLT2017文本翻译 |\n",
    "|│&ensp;&ensp;&ensp;├─ finetune_llama_for_classification.py | 使用CoLLiE微调LLaMA，ZeRO3，训练IMDB文本分类 |\n",
    "|│&ensp;&ensp;&ensp;├─ finetune_llama_for_summary.py | 使用CoLLiE微调LLaMA，张量并行，训练BillSum文本摘要 |\n",
    "|│&ensp;&ensp;&ensp;├─ finetune_llama_for_translation.py | 使用CoLLiE微调LLaMA，流水线并行，训练IWSLT2017文本翻译 |\n",
    "|│&ensp;&ensp;&ensp;├─ **further_pretrain_llama** |  |\n",
    "|│&ensp;&ensp;&ensp;│&ensp;&ensp;&ensp;├─ chinese_sp.model | 保存微调需要的中文分词模型chinese_sp_model  |\n",
    "|│&ensp;&ensp;&ensp;│&ensp;&ensp;&ensp;└─ expand_vocab.py | 使用CoLLiE微调LLaMA，3D并行，进行中英文混合训练 |\n",
    "|│&ensp;&ensp;&ensp;├─ **one_sentence_overfitting** |  |\n",
    "|│&ensp;&ensp;&ensp;│&ensp;&ensp;&ensp;└─ 3d_parallelism.py | 使用CoLLiE微调LLaMA，3D并行，过拟合一句话 |\n",
    "|│&ensp;&ensp;&ensp;├─ **peft** |  |\n",
    "|│&ensp;&ensp;&ensp;│&ensp;&ensp;&ensp;└─ finetune_llama_prompt_tuning.py | 使用CoLLiE微调LLaMA，张量并行+数据并行，训练IMDB文本分类 |\n",
    "|│&ensp;&ensp;&ensp;└─ server.py | 使用CoLLiE部署LLaMA-13B |\n",
    "|├─ requirements.txt | 描述CoLLiE安装主要依赖的包 |\n",
    "|└─ setup.py | 安装CoLLiE |"
   ]
  },
  {
   "cell_type": "markdown",
   "metadata": {},
   "source": [
    "&ensp; &ensp; 在接下来的Tutorial中，您将会看到\n",
    "\n",
    "&emsp; 2 &ensp; [CoLLiE 的使用分析](https://openlmlab-collie.readthedocs.io/zh_CN/latest/tutorials/collie-tutorial-2-trainer.html)\n",
    "\n",
    "&emsp; &emsp; 2.1 &ensp; 案例：指令微调 MOSS\n",
    "\n",
    "&emsp; &emsp; 2.2 &ensp; CoLLiE 的 Config 模块\n",
    "\n",
    "&emsp; &emsp; 2.3 &ensp; CoLLiE 的 Dataset 和 Model\n",
    "\n",
    "&emsp; &emsp; 2.4 &ensp; CoLLiE 的 Evaluator 和 Metric\n",
    "\n",
    "&emsp; &emsp; 2.5 &ensp; CoLLiE 的 Trainer 模块\n",
    "\n",
    "&emsp; 3 &ensp; [CoLLiE 的并行策略](https://openlmlab-collie.readthedocs.io/zh_CN/latest/tutorials/collie-tutorial-3-parallel.html)\n",
    "\n",
    "&emsp; &emsp; 3.1 &ensp; 数据并行（data parallel）\n",
    "\n",
    "&emsp; &emsp; 3.2 &ensp; 流水线并行（pipeline parallel）\n",
    "\n",
    "&emsp; &emsp; 3.3 &ensp; 张量并行（tensor parallel）\n",
    "\n",
    "&emsp; &emsp; 3.4 &ensp; 整合：3D并行（3D parallel）\n",
    "\n",
    "&emsp; &emsp; 3.5 &ensp; 零冗余优化器（ZeRO）\n",
    "\n",
    "&emsp; 4 &ensp; [CoLLiE 的其他内容](https://openlmlab-collie.readthedocs.io/zh_CN/latest/tutorials/collie-tutorial-4-lomo-peft.html)\n",
    "\n",
    "&emsp; &emsp; 4.1 &ensp; CoLLiE 实现 LOMO 算法\n",
    "\n",
    "&emsp; &emsp; 4.2 &ensp; CoLLiE 结合 PEFT 算法\n",
    "\n",
    "&emsp; &emsp; 4.3 &ensp; CoLLiE 的 Callback 模块\n",
    "\n",
    "&emsp; &emsp; 4.4 &ensp; CoLLiE 的 Monitor 模块\n",
    "\n",
    "&emsp; &emsp; 4.5 &ensp; CoLLiE 的 Server 模块"
   ]
  },
  {
   "cell_type": "code",
   "execution_count": null,
   "metadata": {},
   "outputs": [],
   "source": []
  }
 ],
 "metadata": {
  "kernelspec": {
   "display_name": "Python 3 (ipykernel)",
   "language": "python",
   "name": "python3"
  },
  "language_info": {
   "codemirror_mode": {
    "name": "ipython",
    "version": 3
   },
   "file_extension": ".py",
   "mimetype": "text/x-python",
   "name": "python",
   "nbconvert_exporter": "python",
   "pygments_lexer": "ipython3",
   "version": "3.9.16"
  }
 },
 "nbformat": 4,
 "nbformat_minor": 1
}